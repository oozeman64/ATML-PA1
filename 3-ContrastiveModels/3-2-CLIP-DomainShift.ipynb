{
 "cells": [
  {
   "cell_type": "markdown",
   "id": "d6605747",
   "metadata": {},
   "source": [
    "## CLIP ViT-B/32 Zero-Shot Analysis - Domain-Shifted (PACS)"
   ]
  },
  {
   "cell_type": "code",
   "execution_count": 1,
   "id": "14315d36",
   "metadata": {},
   "outputs": [
    {
     "name": "stderr",
     "output_type": "stream",
     "text": [
      "C:\\Users\\muhus\\AppData\\Roaming\\Python\\Python313\\site-packages\\clip\\clip.py:6: UserWarning: pkg_resources is deprecated as an API. See https://setuptools.pypa.io/en/latest/pkg_resources.html. The pkg_resources package is slated for removal as early as 2025-11-30. Refrain from using this package or pin to Setuptools<81.\n",
      "  from pkg_resources import packaging\n"
     ]
    }
   ],
   "source": [
    "import torch\n",
    "from torchvision import datasets\n",
    "from torch.utils.data import DataLoader\n",
    "import clip\n"
   ]
  },
  {
   "cell_type": "code",
   "execution_count": 2,
   "id": "55a6deb0",
   "metadata": {},
   "outputs": [
    {
     "name": "stdout",
     "output_type": "stream",
     "text": [
      "Device: cuda\n"
     ]
    }
   ],
   "source": [
    "device = \"cuda\" if torch.cuda.is_available() else \"cpu\"\n",
    "print(\"Device:\", device)\n",
    "model, preprocess = clip.load(\"ViT-B/32\", device=device)"
   ]
  },
  {
   "cell_type": "markdown",
   "id": "6a337d20",
   "metadata": {},
   "source": [
    "### PACS Dataloaders for each domain"
   ]
  },
  {
   "cell_type": "code",
   "execution_count": 3,
   "id": "8971a9aa",
   "metadata": {},
   "outputs": [],
   "source": [
    "sketch_dir = \"data/pacs_data/pacs_data/sketch\"\n",
    "art_dir = \"data/pacs_data/pacs_data/art_painting\"\n",
    "cartoon_dir = \"data/pacs_data/pacs_data/cartoon\"\n",
    "\n",
    "\n",
    "sketch_dataset = datasets.ImageFolder(root=sketch_dir, transform=preprocess)\n",
    "art_dataset = datasets.ImageFolder(root=art_dir, transform=preprocess)\n",
    "cartoon_dataset = datasets.ImageFolder(root=cartoon_dir, transform=preprocess)\n",
    "\n",
    "sketch_loader = DataLoader(\n",
    "    sketch_dataset,\n",
    "    batch_size=64,\n",
    "    shuffle=False,\n",
    "    num_workers=4,\n",
    "    pin_memory=True\n",
    ")\n",
    "art_loader = DataLoader(\n",
    "    art_dataset,\n",
    "    batch_size=64,\n",
    "    shuffle=False,\n",
    "    num_workers=4,\n",
    "    pin_memory=True\n",
    ")\n",
    "cartoon_loader = DataLoader(\n",
    "    cartoon_dataset,\n",
    "    batch_size=64,\n",
    "    shuffle=False,\n",
    "    num_workers=4,\n",
    "    pin_memory=True\n",
    ")\n"
   ]
  },
  {
   "cell_type": "markdown",
   "id": "540cdc48",
   "metadata": {},
   "source": [
    "### Generating text embeddings of prompts with ensembling for each domain"
   ]
  },
  {
   "cell_type": "code",
   "execution_count": 4,
   "id": "ec2cceee",
   "metadata": {},
   "outputs": [],
   "source": [
    "PACS_classes = sketch_dataset.classes\n",
    "\n",
    "# Prompts adapted from the paper \"Learning Transferable Visual Models From Natural Language Supervision\"\n",
    "# Similar to the ones used for CIFAR\n",
    "templates = [\n",
    "    'a {} of a {}.',\n",
    "    'a blurry {} of a {}.',\n",
    "    'a black and white {} of a {}.',\n",
    "    'a bad {} of a {}.',\n",
    "    'a good {} of a {}.',\n",
    "    'a {} of a small {}.',\n",
    "    'a {} of a big {}.',\n",
    "    'a {} of the {}.',\n",
    "    'a blurry {} of the {}.',\n",
    "    'a black and white {} of the {}.',\n",
    "    'a bad {} of the {}.',\n",
    "    'a good {} of the {}.',\n",
    "    'a {} of the small {}.',\n",
    "    'a {} of the big {}.',\n",
    "]\n",
    "\n",
    "def get_text_features(templates, domain, classes, model, device):\n",
    "    all_text_features = []\n",
    "    for classname in classes:\n",
    "        texts = [template.format(domain, classname) for template in templates]\n",
    "        tokenized = clip.tokenize(texts).to(device)\n",
    "        text_features = model.encode_text(tokenized)\n",
    "        text_features /= text_features.norm(dim=-1, keepdim=True)\n",
    "        class_feature = text_features.mean(dim=0)\n",
    "        class_feature /= class_feature.norm()\n",
    "        all_text_features.append(class_feature)\n",
    "    text_features = torch.stack(all_text_features, dim=0)\n",
    "    return text_features\n",
    "\n",
    "sketch_text_features = get_text_features(templates, 'sketch', PACS_classes, model, device)\n",
    "art_text_features = get_text_features(templates, 'painting', PACS_classes, model, device)\n",
    "cartoon_text_features = get_text_features(templates, 'cartoon', PACS_classes, model, device)\n"
   ]
  },
  {
   "cell_type": "markdown",
   "id": "40f77c73",
   "metadata": {},
   "source": [
    "### Zero-shot classification"
   ]
  },
  {
   "cell_type": "code",
   "execution_count": 5,
   "id": "815ad60f",
   "metadata": {},
   "outputs": [],
   "source": [
    "def zero_shot_classification(loader, text_features, model, device, classes):\n",
    "    correct = 0\n",
    "    total = 0\n",
    "    class_correct = [0] * len(classes)\n",
    "    class_total = [0] * len(classes)\n",
    "    class_accuracies = {}\n",
    "\n",
    "    with torch.no_grad():\n",
    "        for images, labels in loader:\n",
    "            images, labels = images.to(device), labels.to(device)\n",
    "\n",
    "            # Encode images\n",
    "            image_features = model.encode_image(images)\n",
    "            image_features /= image_features.norm(dim=-1, keepdim=True)\n",
    "\n",
    "            # Compute similarity with text features\n",
    "            similarity = 100.0 * image_features @ text_features.T\n",
    "            preds = similarity.argmax(dim=1)\n",
    "\n",
    "            correct += (preds == labels).sum().item()\n",
    "            total += labels.size(0)\n",
    "\n",
    "            for i in range(len(labels)):\n",
    "                label = labels[i].item()\n",
    "                if preds[i].item() == label:\n",
    "                    class_correct[label] += 1\n",
    "                class_total[label] += 1\n",
    "\n",
    "    accuracy = correct / total * 100\n",
    "\n",
    "    for i, classname in enumerate(classes):\n",
    "        acc = 100.0 * class_correct[i] / class_total[i]\n",
    "        class_accuracies[classname] = acc\n",
    "\n",
    "    return accuracy, class_accuracies"
   ]
  },
  {
   "cell_type": "code",
   "execution_count": 6,
   "id": "be3a8a61",
   "metadata": {},
   "outputs": [
    {
     "name": "stdout",
     "output_type": "stream",
     "text": [
      "Zero-shot CLIP accuracy on PACS Sketch:         86.56%\n",
      "Per-class accuracy:\n",
      "    dog       : 72.67%\n",
      "    elephant  : 92.57%\n",
      "    giraffe   : 70.92%\n",
      "    guitar    : 99.01%\n",
      "    horse     : 98.41%\n",
      "    house     : 98.75%\n",
      "    person    : 85.62%\n",
      "\n",
      "Zero-shot CLIP accuracy on PACS Art/Painting: 94.87%\n",
      "Per-class accuracy:\n",
      "    dog       : 93.93%\n",
      "    elephant  : 95.69%\n",
      "    giraffe   : 98.25%\n",
      "    guitar    : 95.11%\n",
      "    horse     : 97.51%\n",
      "    house     : 100.00%\n",
      "    person    : 88.42%\n",
      "\n",
      "Zero-shot CLIP accuracy on PACS Cartoon:      97.53%\n",
      "Per-class accuracy:\n",
      "    dog       : 96.66%\n",
      "    elephant  : 99.78%\n",
      "    giraffe   : 99.13%\n",
      "    guitar    : 100.00%\n",
      "    horse     : 96.30%\n",
      "    house     : 99.65%\n",
      "    person    : 93.09%\n"
     ]
    }
   ],
   "source": [
    "sketch_accuracy, sketch_class_accuracies = zero_shot_classification(sketch_loader, sketch_text_features, model, device, PACS_classes)\n",
    "art_accuracy, art_class_accuracies = zero_shot_classification(art_loader, art_text_features, model, device, PACS_classes)\n",
    "cartoon_accuracy, cartoon_class_accuracies = zero_shot_classification(cartoon_loader, cartoon_text_features, model, device, PACS_classes)\n",
    "\n",
    "print(f\"Zero-shot CLIP accuracy on PACS Sketch:         {sketch_accuracy:.2f}%\")\n",
    "print(\"Per-class accuracy:\")\n",
    "for classname, acc in sketch_class_accuracies.items():\n",
    "    print(f\"    {classname:10s}: {acc:.2f}%\")\n",
    "\n",
    "print(f\"\\nZero-shot CLIP accuracy on PACS Art/Painting: {art_accuracy:.2f}%\")\n",
    "print(\"Per-class accuracy:\")\n",
    "for classname, acc in art_class_accuracies.items():\n",
    "    print(f\"    {classname:10s}: {acc:.2f}%\")\n",
    "\n",
    "print(f\"\\nZero-shot CLIP accuracy on PACS Cartoon:      {cartoon_accuracy:.2f}%\")\n",
    "print(\"Per-class accuracy:\")\n",
    "for classname, acc in cartoon_class_accuracies.items():\n",
    "    print(f\"    {classname:10s}: {acc:.2f}%\")\n"
   ]
  }
 ],
 "metadata": {
  "kernelspec": {
   "display_name": "Python 3",
   "language": "python",
   "name": "python3"
  },
  "language_info": {
   "codemirror_mode": {
    "name": "ipython",
    "version": 3
   },
   "file_extension": ".py",
   "mimetype": "text/x-python",
   "name": "python",
   "nbconvert_exporter": "python",
   "pygments_lexer": "ipython3",
   "version": "3.13.0"
  }
 },
 "nbformat": 4,
 "nbformat_minor": 5
}
