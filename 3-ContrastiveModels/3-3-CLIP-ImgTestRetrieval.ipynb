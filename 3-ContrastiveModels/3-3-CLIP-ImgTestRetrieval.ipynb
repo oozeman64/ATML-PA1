{
 "cells": [
  {
   "cell_type": "markdown",
   "id": "950ac87e",
   "metadata": {},
   "source": [
    "## CLIP ViT-B/32 Image-Text Retrieval"
   ]
  }
 ],
 "metadata": {
  "language_info": {
   "name": "python"
  }
 },
 "nbformat": 4,
 "nbformat_minor": 5
}
