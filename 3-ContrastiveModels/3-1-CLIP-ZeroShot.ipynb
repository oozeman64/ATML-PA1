{
 "cells": [
  {
   "cell_type": "markdown",
   "id": "d6605747",
   "metadata": {},
   "source": [
    "## CLIP ViT-B/32 Zero-Shot Analysis"
   ]
  },
  {
   "cell_type": "code",
   "execution_count": 21,
   "id": "14315d36",
   "metadata": {},
   "outputs": [],
   "source": [
    "import torch\n",
    "from torchvision import datasets\n",
    "from torch.utils.data import DataLoader, ConcatDataset\n",
    "import numpy as np\n",
    "import clip\n",
    "from PIL import Image\n"
   ]
  },
  {
   "cell_type": "code",
   "execution_count": 22,
   "id": "55a6deb0",
   "metadata": {},
   "outputs": [
    {
     "name": "stdout",
     "output_type": "stream",
     "text": [
      "Device: cuda\n"
     ]
    }
   ],
   "source": [
    "device = \"cuda\" if torch.cuda.is_available() else \"cpu\"\n",
    "print(\"Device:\", device)\n",
    "model, preprocess = clip.load(\"ViT-B/32\", device=device)"
   ]
  },
  {
   "cell_type": "markdown",
   "id": "6a337d20",
   "metadata": {},
   "source": [
    "### CIFAR-10 Dataloader (full set)"
   ]
  },
  {
   "cell_type": "code",
   "execution_count": 23,
   "id": "8971a9aa",
   "metadata": {},
   "outputs": [],
   "source": [
    "transform = preprocess\n",
    "\n",
    "train_dataset = datasets.CIFAR10(\n",
    "        root=\"./data\",\n",
    "        train=True,\n",
    "        download=True,\n",
    "        transform=transform\n",
    "    )\n",
    "test_dataset = datasets.CIFAR10(\n",
    "        root=\"./data\",\n",
    "        train=False,\n",
    "        download=True,\n",
    "        transform=transform\n",
    "    )\n",
    "\n",
    "full_dataset = ConcatDataset([train_dataset, test_dataset])\n",
    "\n",
    "loader = DataLoader(\n",
    "        full_dataset,\n",
    "        batch_size= 128,\n",
    "        shuffle=False,\n",
    "        num_workers=2\n",
    "    )"
   ]
  },
  {
   "cell_type": "markdown",
   "id": "540cdc48",
   "metadata": {},
   "source": [
    "### Generating text embeddings of prompts with ensembling"
   ]
  },
  {
   "cell_type": "code",
   "execution_count": 24,
   "id": "ec2cceee",
   "metadata": {},
   "outputs": [],
   "source": [
    "cifar10_classes = [\n",
    "    \"airplane\", \"automobile\", \"bird\", \"cat\", \"deer\",\n",
    "    \"dog\", \"frog\", \"horse\", \"ship\", \"truck\"\n",
    "]\n",
    "\n",
    "# Prompts used in the paper \"Learning Transferable Visual Models From Natural Language Supervision\"\n",
    "templates = [\n",
    "    'a photo of a {}.',\n",
    "    'a blurry photo of a {}.',\n",
    "    'a black and white photo of a {}.',\n",
    "    'a low contrast photo of a {}.',\n",
    "    'a high contrast photo of a {}.',\n",
    "    'a bad photo of a {}.',\n",
    "    'a good photo of a {}.',\n",
    "    'a photo of a small {}.',\n",
    "    'a photo of a big {}.',\n",
    "    'a photo of the {}.',\n",
    "    'a blurry photo of the {}.',\n",
    "    'a black and white photo of the {}.',\n",
    "    'a low contrast photo of the {}.',\n",
    "    'a high contrast photo of the {}.',\n",
    "    'a bad photo of the {}.',\n",
    "    'a good photo of the {}.',\n",
    "    'a photo of the small {}.',\n",
    "    'a photo of the big {}.',\n",
    "]\n",
    "\n",
    "with torch.no_grad():\n",
    "    all_text_features = []\n",
    "    for classname in cifar10_classes:\n",
    "        texts = [template.format(classname) for template in templates]\n",
    "        tokenized = clip.tokenize(texts).to(device)\n",
    "        text_features = model.encode_text(tokenized)\n",
    "        text_features /= text_features.norm(dim=-1, keepdim=True)\n",
    "        class_feature = text_features.mean(dim=0)\n",
    "        class_feature /= class_feature.norm()\n",
    "        all_text_features.append(class_feature)\n",
    "        text_features = torch.stack(all_text_features, dim=0)"
   ]
  },
  {
   "cell_type": "markdown",
   "id": "40f77c73",
   "metadata": {},
   "source": [
    "### Zero-shot classification"
   ]
  },
  {
   "cell_type": "code",
   "execution_count": 25,
   "id": "815ad60f",
   "metadata": {},
   "outputs": [
    {
     "name": "stdout",
     "output_type": "stream",
     "text": [
      "Zero-shot CLIP accuracy on CIFAR-10: 89.68%\n"
     ]
    }
   ],
   "source": [
    "correct = 0\n",
    "total = 0\n",
    "\n",
    "with torch.no_grad():\n",
    "    for images, labels in loader:\n",
    "        images, labels = images.to(device), labels.to(device)\n",
    "\n",
    "        # Encode images\n",
    "        image_features = model.encode_image(images)\n",
    "        image_features /= image_features.norm(dim=-1, keepdim=True)\n",
    "\n",
    "        # Compute similarity\n",
    "        similarity = 100.0 * image_features @ text_features.T\n",
    "        preds = similarity.argmax(dim=1)\n",
    "\n",
    "        # Count correct predictions\n",
    "        correct += (preds == labels).sum().item()\n",
    "        total += labels.size(0)\n",
    "\n",
    "accuracy = correct / total * 100\n",
    "print(f\"Zero-shot CLIP accuracy on CIFAR-10: {accuracy:.2f}%\")"
   ]
  }
 ],
 "metadata": {
  "kernelspec": {
   "display_name": "Python 3",
   "language": "python",
   "name": "python3"
  },
  "language_info": {
   "codemirror_mode": {
    "name": "ipython",
    "version": 3
   },
   "file_extension": ".py",
   "mimetype": "text/x-python",
   "name": "python",
   "nbconvert_exporter": "python",
   "pygments_lexer": "ipython3",
   "version": "3.13.0"
  }
 },
 "nbformat": 4,
 "nbformat_minor": 5
}
