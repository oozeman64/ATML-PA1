{
 "cells": [
  {
   "cell_type": "markdown",
   "id": "d6605747",
   "metadata": {},
   "source": [
    "## CLIP ViT-B/32 Zero-Shot Analysis - PACS Sketch"
   ]
  },
  {
   "cell_type": "code",
   "execution_count": null,
   "id": "14315d36",
   "metadata": {},
   "outputs": [],
   "source": [
    "import torch\n",
    "from torchvision import datasets\n",
    "from torch.utils.data import DataLoader\n",
    "import clip\n",
    "from PIL import Image\n"
   ]
  },
  {
   "cell_type": "code",
   "execution_count": 13,
   "id": "55a6deb0",
   "metadata": {},
   "outputs": [
    {
     "name": "stdout",
     "output_type": "stream",
     "text": [
      "Device: cuda\n"
     ]
    }
   ],
   "source": [
    "device = \"cuda\" if torch.cuda.is_available() else \"cpu\"\n",
    "print(\"Device:\", device)\n",
    "model, preprocess = clip.load(\"ViT-B/32\", device=device)"
   ]
  },
  {
   "cell_type": "markdown",
   "id": "6a337d20",
   "metadata": {},
   "source": [
    "### PACS Sketch Dataloader (full set)"
   ]
  },
  {
   "cell_type": "code",
   "execution_count": 14,
   "id": "8971a9aa",
   "metadata": {},
   "outputs": [],
   "source": [
    "transform = preprocess\n",
    "\n",
    "data_dir = \"data/pacs_data/pacs_data/sketch\"\n",
    "\n",
    "sketch_dataset = datasets.ImageFolder(root=data_dir, transform=preprocess)\n",
    "\n",
    "sketch_loader = DataLoader(\n",
    "    sketch_dataset,\n",
    "    batch_size=64,\n",
    "    shuffle=False,\n",
    "    num_workers=4,\n",
    "    pin_memory=True\n",
    ")\n"
   ]
  },
  {
   "cell_type": "markdown",
   "id": "540cdc48",
   "metadata": {},
   "source": [
    "### Generating text embeddings of prompts with ensembling"
   ]
  },
  {
   "cell_type": "code",
   "execution_count": null,
   "id": "ec2cceee",
   "metadata": {},
   "outputs": [],
   "source": [
    "PACS_classes = sketch_dataset.classes\n",
    "\n",
    "# Prompts adapted from the paper \"Learning Transferable Visual Models From Natural Language Supervision\"\n",
    "# Similar to the ones used for CIFAR\n",
    "templates = [\n",
    "    'a sketch of a {}.',\n",
    "    'a blurry sketch of a {}.',\n",
    "    'a black and white sketch of a {}.',\n",
    "    'a bad sketch of a {}.',\n",
    "    'a good sketch of a {}.',\n",
    "    'a sketch of a small {}.',\n",
    "    'a sketch of a big {}.',\n",
    "    'a sketch of the {}.',\n",
    "    'a blurry sketch of the {}.',\n",
    "    'a black and white drawing of the {}.',\n",
    "    'a bad drawing of the {}.',\n",
    "    'a good drawing of the {}.',\n",
    "    'a drawing of the small {}.',\n",
    "    'a drawing of the big {}.',\n",
    "]\n",
    "\n",
    "with torch.no_grad():\n",
    "    all_text_features = []\n",
    "    for classname in PACS_classes:\n",
    "        texts = [template.format(classname) for template in templates]\n",
    "        tokenized = clip.tokenize(texts).to(device)\n",
    "        text_features = model.encode_text(tokenized)\n",
    "        text_features /= text_features.norm(dim=-1, keepdim=True)\n",
    "        class_feature = text_features.mean(dim=0)\n",
    "        class_feature /= class_feature.norm()\n",
    "        all_text_features.append(class_feature)\n",
    "        text_features = torch.stack(all_text_features, dim=0)"
   ]
  },
  {
   "cell_type": "markdown",
   "id": "40f77c73",
   "metadata": {},
   "source": [
    "### Zero-shot classification"
   ]
  },
  {
   "cell_type": "code",
   "execution_count": 16,
   "id": "815ad60f",
   "metadata": {},
   "outputs": [
    {
     "name": "stdout",
     "output_type": "stream",
     "text": [
      "Zero-shot CLIP accuracy on PACS Sketch: 86.59%\n"
     ]
    }
   ],
   "source": [
    "correct = 0\n",
    "total = 0\n",
    "\n",
    "with torch.no_grad():\n",
    "    for images, labels in sketch_loader:\n",
    "        images, labels = images.to(device), labels.to(device)\n",
    "\n",
    "        # Encode images\n",
    "        image_features = model.encode_image(images)\n",
    "        image_features /= image_features.norm(dim=-1, keepdim=True)\n",
    "\n",
    "        # Compute similarity\n",
    "        similarity = 100.0 * image_features @ text_features.T\n",
    "        preds = similarity.argmax(dim=1)\n",
    "\n",
    "        correct += (preds == labels).sum().item()\n",
    "        total += labels.size(0)\n",
    "\n",
    "accuracy = correct / total * 100\n",
    "print(f\"Zero-shot CLIP accuracy on PACS Sketch: {accuracy:.2f}%\")"
   ]
  }
 ],
 "metadata": {
  "kernelspec": {
   "display_name": "Python 3",
   "language": "python",
   "name": "python3"
  },
  "language_info": {
   "codemirror_mode": {
    "name": "ipython",
    "version": 3
   },
   "file_extension": ".py",
   "mimetype": "text/x-python",
   "name": "python",
   "nbconvert_exporter": "python",
   "pygments_lexer": "ipython3",
   "version": "3.13.0"
  }
 },
 "nbformat": 4,
 "nbformat_minor": 5
}
