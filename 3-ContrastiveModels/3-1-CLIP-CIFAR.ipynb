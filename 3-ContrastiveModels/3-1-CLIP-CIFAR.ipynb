{
 "cells": [
  {
   "cell_type": "markdown",
   "id": "d6605747",
   "metadata": {},
   "source": [
    "## CLIP ViT-B/32 Zero-Shot Analysis - CIFAR-10"
   ]
  },
  {
   "cell_type": "code",
   "execution_count": 1,
   "id": "14315d36",
   "metadata": {},
   "outputs": [
    {
     "name": "stderr",
     "output_type": "stream",
     "text": [
      "C:\\Users\\muhus\\AppData\\Roaming\\Python\\Python313\\site-packages\\clip\\clip.py:6: UserWarning: pkg_resources is deprecated as an API. See https://setuptools.pypa.io/en/latest/pkg_resources.html. The pkg_resources package is slated for removal as early as 2025-11-30. Refrain from using this package or pin to Setuptools<81.\n",
      "  from pkg_resources import packaging\n"
     ]
    }
   ],
   "source": [
    "import torch\n",
    "from torchvision import datasets\n",
    "from torch.utils.data import DataLoader, ConcatDataset\n",
    "import clip\n"
   ]
  },
  {
   "cell_type": "code",
   "execution_count": null,
   "id": "55a6deb0",
   "metadata": {},
   "outputs": [
    {
     "name": "stdout",
     "output_type": "stream",
     "text": [
      "Device: cuda\n"
     ]
    }
   ],
   "source": [
    "device = \"cuda\" if torch.cuda.is_available() else \"mps\" if torch.mps.is_available() else \"cpu\"\n",
    "print(\"Device:\", device)\n",
    "model, preprocess = clip.load(\"ViT-B/32\", device=device)"
   ]
  },
  {
   "cell_type": "markdown",
   "id": "6a337d20",
   "metadata": {},
   "source": [
    "### CIFAR-10 Dataloader (full set)"
   ]
  },
  {
   "cell_type": "code",
   "execution_count": null,
   "id": "8971a9aa",
   "metadata": {},
   "outputs": [],
   "source": [
    "train_dataset = datasets.CIFAR10(\n",
    "        root=\"./data\",\n",
    "        train=True,\n",
    "        download=True,\n",
    "        transform=preprocess\n",
    "    )\n",
    "test_dataset = datasets.CIFAR10(\n",
    "        root=\"./data\",\n",
    "        train=False,\n",
    "        download=True,\n",
    "        transform=preprocess\n",
    "    )\n",
    "\n",
    "full_dataset = ConcatDataset([train_dataset, test_dataset])\n",
    "\n",
    "loader = DataLoader(\n",
    "        full_dataset,\n",
    "        batch_size= 128,\n",
    "        shuffle=False,\n",
    "        num_workers=2\n",
    "    )"
   ]
  },
  {
   "cell_type": "markdown",
   "id": "540cdc48",
   "metadata": {},
   "source": [
    "### Generating text embeddings of prompts with ensembling"
   ]
  },
  {
   "cell_type": "code",
   "execution_count": 4,
   "id": "ec2cceee",
   "metadata": {},
   "outputs": [],
   "source": [
    "cifar10_classes = [\n",
    "    \"airplane\", \"automobile\", \"bird\", \"cat\", \"deer\",\n",
    "    \"dog\", \"frog\", \"horse\", \"ship\", \"truck\"\n",
    "]\n",
    "\n",
    "# Prompts used in the paper \"Learning Transferable Visual Models From Natural Language Supervision\"\n",
    "templates = [\n",
    "    'a photo of a {}.',\n",
    "    'a blurry photo of a {}.',\n",
    "    'a black and white photo of a {}.',\n",
    "    'a low contrast photo of a {}.',\n",
    "    'a high contrast photo of a {}.',\n",
    "    'a bad photo of a {}.',\n",
    "    'a good photo of a {}.',\n",
    "    'a photo of a small {}.',\n",
    "    'a photo of a big {}.',\n",
    "    'a photo of the {}.',\n",
    "    'a blurry photo of the {}.',\n",
    "    'a black and white photo of the {}.',\n",
    "    'a low contrast photo of the {}.',\n",
    "    'a high contrast photo of the {}.',\n",
    "    'a bad photo of the {}.',\n",
    "    'a good photo of the {}.',\n",
    "    'a photo of the small {}.',\n",
    "    'a photo of the big {}.',\n",
    "]\n",
    "\n",
    "def get_text_features(templates, classes, model, device):\n",
    "    all_text_features = []\n",
    "    for classname in classes:\n",
    "        if templates is not None:\n",
    "            texts = [template.format(classname) for template in templates]\n",
    "        else:\n",
    "            texts = [classname]\n",
    "        tokenized = clip.tokenize(texts).to(device)\n",
    "        text_features = model.encode_text(tokenized)\n",
    "        text_features /= text_features.norm(dim=-1, keepdim=True)\n",
    "        class_feature = text_features.mean(dim=0)\n",
    "        class_feature /= class_feature.norm()\n",
    "        all_text_features.append(class_feature)\n",
    "    text_features = torch.stack(all_text_features, dim=0)\n",
    "    return text_features\n",
    "\n",
    "plain_text_features = get_text_features(None, cifar10_classes, model, device).cpu()\n",
    "ensemble_text_features = get_text_features(templates, cifar10_classes, model, device).cpu()"
   ]
  },
  {
   "cell_type": "markdown",
   "id": "40f77c73",
   "metadata": {},
   "source": [
    "### Zero-shot classification"
   ]
  },
  {
   "cell_type": "code",
   "execution_count": 5,
   "id": "c97fd7ed",
   "metadata": {},
   "outputs": [],
   "source": [
    "def zero_shot_classification(loader, text_features, model, device, classes):\n",
    "    correct = 0\n",
    "    total = 0\n",
    "    class_correct = [0] * len(classes)\n",
    "    class_total = [0] * len(classes)\n",
    "    class_accuracies = {}\n",
    "    model.eval()\n",
    "    with torch.no_grad():\n",
    "        for images, labels in loader:\n",
    "            images, labels = images.to(device), labels.to(device)\n",
    "\n",
    "            # Encode images\n",
    "            image_features = model.encode_image(images)\n",
    "            image_features /= image_features.norm(dim=-1, keepdim=True)\n",
    "\n",
    "            # Compute similarity with text features\n",
    "            similarity = 100.0 * image_features @ text_features.to(device).T\n",
    "            preds = similarity.argmax(dim=1)\n",
    "\n",
    "            correct += (preds == labels).sum().item()\n",
    "            total += labels.size(0)\n",
    "\n",
    "            for i in range(len(labels)):\n",
    "                label = labels[i].item()\n",
    "                if preds[i].item() == label:\n",
    "                    class_correct[label] += 1\n",
    "                class_total[label] += 1\n",
    "\n",
    "    accuracy = correct / total * 100\n",
    "\n",
    "    for i, classname in enumerate(classes):\n",
    "        acc = 100.0 * class_correct[i] / class_total[i]\n",
    "        class_accuracies[classname] = acc\n",
    "\n",
    "    return accuracy, class_accuracies"
   ]
  },
  {
   "cell_type": "code",
   "execution_count": 6,
   "id": "26bb019d",
   "metadata": {},
   "outputs": [
    {
     "name": "stdout",
     "output_type": "stream",
     "text": [
      "Zero-shot accuracy on CIFAR-10 (plain labels): 87.49%\n",
      "Per-class accuracy:\n",
      "    airplane  : 83.37%\n",
      "    automobile: 89.83%\n",
      "    bird      : 90.88%\n",
      "    cat       : 79.30%\n",
      "    deer      : 80.70%\n",
      "    dog       : 85.85%\n",
      "    frog      : 77.40%\n",
      "    horse     : 97.45%\n",
      "    ship      : 96.30%\n",
      "    truck     : 93.80%\n",
      "\n",
      "Zero-shot accuracy on CIFAR-10 (label ensembling): 89.68%\n",
      "Per-class accuracy:\n",
      "    airplane  : 92.02%\n",
      "    automobile: 93.62%\n",
      "    bird      : 89.18%\n",
      "    cat       : 85.23%\n",
      "    deer      : 80.85%\n",
      "    dog       : 88.30%\n",
      "    frog      : 81.62%\n",
      "    horse     : 97.35%\n",
      "    ship      : 95.55%\n",
      "    truck     : 93.03%\n"
     ]
    }
   ],
   "source": [
    "plain_accuracy, plain_class_accuracies = zero_shot_classification(loader, plain_text_features, model, device, cifar10_classes)\n",
    "ensemble_accuracy, ensemble_class_accuracies = zero_shot_classification(loader, ensemble_text_features, model, device, cifar10_classes)\n",
    "\n",
    "print(f\"Zero-shot accuracy on CIFAR-10 (plain labels): {plain_accuracy:.2f}%\")\n",
    "print(\"Per-class accuracy:\")\n",
    "for classname, acc in plain_class_accuracies.items():\n",
    "    print(f\"    {classname:10s}: {acc:.2f}%\")\n",
    "\n",
    "print(f\"\\nZero-shot accuracy on CIFAR-10 (label ensembling): {ensemble_accuracy:.2f}%\")\n",
    "print(\"Per-class accuracy:\")\n",
    "for classname, acc in ensemble_class_accuracies.items():\n",
    "    print(f\"    {classname:10s}: {acc:.2f}%\")"
   ]
  }
 ],
 "metadata": {
  "kernelspec": {
   "display_name": "Python 3",
   "language": "python",
   "name": "python3"
  },
  "language_info": {
   "codemirror_mode": {
    "name": "ipython",
    "version": 3
   },
   "file_extension": ".py",
   "mimetype": "text/x-python",
   "name": "python",
   "nbconvert_exporter": "python",
   "pygments_lexer": "ipython3",
   "version": "3.13.0"
  }
 },
 "nbformat": 4,
 "nbformat_minor": 5
}
