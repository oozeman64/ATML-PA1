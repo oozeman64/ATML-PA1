{
 "cells": [
  {
   "cell_type": "markdown",
   "id": "d6605747",
   "metadata": {},
   "source": [
    "## CLIP ViT-B/32 Zero-Shot Analysis - STL-10"
   ]
  },
  {
   "cell_type": "code",
   "execution_count": 11,
   "id": "14315d36",
   "metadata": {},
   "outputs": [],
   "source": [
    "import torch\n",
    "from torchvision import datasets\n",
    "from torch.utils.data import DataLoader, ConcatDataset\n",
    "import clip\n"
   ]
  },
  {
   "cell_type": "code",
   "execution_count": 12,
   "id": "55a6deb0",
   "metadata": {},
   "outputs": [
    {
     "name": "stdout",
     "output_type": "stream",
     "text": [
      "Device: mps\n"
     ]
    }
   ],
   "source": [
    "device = \"cuda\" if torch.cuda.is_available() else \"mps\" if torch.mps.is_available() else \"cpu\"\n",
    "print(\"Device:\", device)\n",
    "model, preprocess = clip.load(\"ViT-B/32\", device=device)"
   ]
  },
  {
   "cell_type": "markdown",
   "id": "6a337d20",
   "metadata": {},
   "source": [
    "### STL-10 Dataloader (test set)"
   ]
  },
  {
   "cell_type": "code",
   "execution_count": 13,
   "id": "8971a9aa",
   "metadata": {},
   "outputs": [],
   "source": [
    "test_stl = datasets.STL10(\n",
    "        root=\"./data\",\n",
    "        split='test',\n",
    "        download=True,\n",
    "        transform=preprocess\n",
    "    )\n",
    "\n",
    "loader = DataLoader(\n",
    "        test_stl,\n",
    "        batch_size= 128,\n",
    "        shuffle=False,\n",
    "        num_workers=2\n",
    "    )"
   ]
  },
  {
   "cell_type": "markdown",
   "id": "540cdc48",
   "metadata": {},
   "source": [
    "### Generating text embeddings of prompts with ensembling"
   ]
  },
  {
   "cell_type": "code",
   "execution_count": 14,
   "id": "ec2cceee",
   "metadata": {},
   "outputs": [],
   "source": [
    "stl10_classes = test_stl.classes\n",
    "\n",
    "# Prompts used (for STL-10) in the paper \"Learning Transferable Visual Models From Natural Language Supervision\"\n",
    "templates = [\n",
    "    \"a photo of the {}.\",\n",
    "    \"a photo of the {}.\"\n",
    "]\n",
    "\n",
    "def get_text_features(templates, classes, model, device):\n",
    "    all_text_features = []\n",
    "    for classname in classes:\n",
    "        if templates is not None:\n",
    "            texts = [template.format(classname) for template in templates]\n",
    "        else:\n",
    "            texts = [classname]\n",
    "        tokenized = clip.tokenize(texts).to(device)\n",
    "        text_features = model.encode_text(tokenized)\n",
    "        text_features /= text_features.norm(dim=-1, keepdim=True)\n",
    "        class_feature = text_features.mean(dim=0)\n",
    "        class_feature /= class_feature.norm()\n",
    "        all_text_features.append(class_feature)\n",
    "    text_features = torch.stack(all_text_features, dim=0)\n",
    "    return text_features\n",
    "\n",
    "plain_text_features = get_text_features(None, stl10_classes, model, device).cpu()\n",
    "ensemble_text_features = get_text_features(templates, stl10_classes, model, device).cpu()"
   ]
  },
  {
   "cell_type": "markdown",
   "id": "40f77c73",
   "metadata": {},
   "source": [
    "### Zero-shot classification"
   ]
  },
  {
   "cell_type": "code",
   "execution_count": 15,
   "id": "c97fd7ed",
   "metadata": {},
   "outputs": [],
   "source": [
    "def zero_shot_classification(loader, text_features, model, device, classes):\n",
    "    correct = 0\n",
    "    total = 0\n",
    "    class_correct = [0] * len(classes)\n",
    "    class_total = [0] * len(classes)\n",
    "    class_accuracies = {}\n",
    "    model.eval()\n",
    "    with torch.no_grad():\n",
    "        for images, labels in loader:\n",
    "            images, labels = images.to(device), labels.to(device)\n",
    "\n",
    "            # Encode images\n",
    "            image_features = model.encode_image(images)\n",
    "            image_features /= image_features.norm(dim=-1, keepdim=True)\n",
    "\n",
    "            # Compute similarity with text features\n",
    "            similarity = 100.0 * image_features @ text_features.to(device).T\n",
    "            preds = similarity.argmax(dim=1)\n",
    "\n",
    "            correct += (preds == labels).sum().item()\n",
    "            total += labels.size(0)\n",
    "\n",
    "            for i in range(len(labels)):\n",
    "                label = labels[i].item()\n",
    "                if preds[i].item() == label:\n",
    "                    class_correct[label] += 1\n",
    "                class_total[label] += 1\n",
    "\n",
    "    accuracy = correct / total * 100\n",
    "\n",
    "    for i, classname in enumerate(classes):\n",
    "        acc = 100.0 * class_correct[i] / class_total[i]\n",
    "        class_accuracies[classname] = acc\n",
    "\n",
    "    return accuracy, class_accuracies"
   ]
  },
  {
   "cell_type": "code",
   "execution_count": 16,
   "id": "26bb019d",
   "metadata": {},
   "outputs": [
    {
     "name": "stdout",
     "output_type": "stream",
     "text": [
      "Zero-shot accuracy on STL-10 (plain labels): 96.25%\n",
      "Per-class accuracy:\n",
      "    airplane  : 95.12%\n",
      "    bird      : 99.75%\n",
      "    car       : 94.75%\n",
      "    cat       : 84.38%\n",
      "    deer      : 98.50%\n",
      "    dog       : 96.62%\n",
      "    horse     : 99.00%\n",
      "    monkey    : 94.88%\n",
      "    ship      : 99.88%\n",
      "    truck     : 99.62%\n",
      "\n",
      "Zero-shot accuracy on STL-10 (label ensembling): 96.78%\n",
      "Per-class accuracy:\n",
      "    airplane  : 99.12%\n",
      "    bird      : 99.75%\n",
      "    car       : 95.75%\n",
      "    cat       : 84.25%\n",
      "    deer      : 98.12%\n",
      "    dog       : 96.12%\n",
      "    horse     : 98.62%\n",
      "    monkey    : 97.25%\n",
      "    ship      : 99.88%\n",
      "    truck     : 98.88%\n"
     ]
    }
   ],
   "source": [
    "plain_accuracy, plain_class_accuracies = zero_shot_classification(loader, plain_text_features, model, device, stl10_classes)\n",
    "ensemble_accuracy, ensemble_class_accuracies = zero_shot_classification(loader, ensemble_text_features, model, device, stl10_classes)\n",
    "\n",
    "print(f\"Zero-shot accuracy on STL-10 (plain labels): {plain_accuracy:.2f}%\")\n",
    "print(\"Per-class accuracy:\")\n",
    "for classname, acc in plain_class_accuracies.items():\n",
    "    print(f\"    {classname:10s}: {acc:.2f}%\")\n",
    "\n",
    "print(f\"\\nZero-shot accuracy on STL-10 (label ensembling): {ensemble_accuracy:.2f}%\")\n",
    "print(\"Per-class accuracy:\")\n",
    "for classname, acc in ensemble_class_accuracies.items():\n",
    "    print(f\"    {classname:10s}: {acc:.2f}%\")"
   ]
  }
 ],
 "metadata": {
  "kernelspec": {
   "display_name": "Python 3",
   "language": "python",
   "name": "python3"
  },
  "language_info": {
   "codemirror_mode": {
    "name": "ipython",
    "version": 3
   },
   "file_extension": ".py",
   "mimetype": "text/x-python",
   "name": "python",
   "nbconvert_exporter": "python",
   "pygments_lexer": "ipython3",
   "version": "3.13.1"
  }
 },
 "nbformat": 4,
 "nbformat_minor": 5
}
