{
 "cells": [
  {
   "cell_type": "markdown",
   "id": "15364dd5",
   "metadata": {},
   "source": [
    "## CLIP ViT-B/32 Shape / Texture Bias"
   ]
  },
  {
   "cell_type": "code",
   "execution_count": 1,
   "id": "63d1257e",
   "metadata": {},
   "outputs": [],
   "source": [
    "import torch\n",
    "from torchvision import datasets\n",
    "from torch.utils.data import DataLoader\n",
    "import clip\n",
    "import os\n"
   ]
  },
  {
   "cell_type": "code",
   "execution_count": 2,
   "id": "d73da732",
   "metadata": {},
   "outputs": [
    {
     "name": "stdout",
     "output_type": "stream",
     "text": [
      "Device: mps\n"
     ]
    }
   ],
   "source": [
    "device = \"cuda\" if torch.cuda.is_available() else \"mps\" if torch.mps.is_available() else \"cpu\"\n",
    "print(\"Device:\", device)\n",
    "model, preprocess = clip.load(\"ViT-B/32\", device=device)"
   ]
  },
  {
   "cell_type": "markdown",
   "id": "190569b8",
   "metadata": {},
   "source": [
    "### Custom Cue-Conflicted STL-10 Test Set"
   ]
  },
  {
   "cell_type": "code",
   "execution_count": null,
   "id": "c12568a9",
   "metadata": {},
   "outputs": [],
   "source": [
    "stl_testset = datasets.STL10(root='data', split='test', download=True, transform=preprocess)\n",
    "\n",
    "test_loader = DataLoader(\n",
    "    stl_testset,\n",
    "    batch_size=128,\n",
    "    shuffle=False,\n",
    "    num_workers=2\n",
    ")\n",
    "\n",
    "cc_dataset = datasets.ImageFolder(root='data/cue_conflict_dataset', transform=preprocess)\n",
    "cc_dataset.samples.sort(key=lambda x: int(''.join(filter(str.isdigit, os.path.basename(x[0])))))\n",
    "\n",
    "cc_loader = DataLoader(\n",
    "    cc_dataset,\n",
    "    batch_size=128,\n",
    "    shuffle=False,\n",
    "    num_workers=2\n",
    ")"
   ]
  },
  {
   "cell_type": "markdown",
   "id": "664a06b4",
   "metadata": {},
   "source": [
    "### Text Embeddings\n",
    "Simple Template: 'a {class}'"
   ]
  },
  {
   "cell_type": "code",
   "execution_count": 4,
   "id": "93288f8f",
   "metadata": {},
   "outputs": [],
   "source": [
    "stl10_classes = [\n",
    "    \"airplane\", \"bird\", \"car\", \"cat\", \"deer\",\n",
    "    \"dog\", \"horse\", \"monkey\",\"ship\", \"truck\"\n",
    "]\n",
    "\n",
    "all_text_features = []\n",
    "for classname in stl10_classes:\n",
    "    text = f\"a {classname}\"\n",
    "    tokenized = clip.tokenize(text).to(device)\n",
    "    text_features = model.encode_text(tokenized)\n",
    "    text_features /= text_features.norm(dim=-1, keepdim=True)\n",
    "    class_feature = text_features.mean(dim=0)\n",
    "    class_feature /= class_feature.norm()\n",
    "    all_text_features.append(class_feature)\n",
    "text_features = torch.stack(all_text_features, dim=0)"
   ]
  },
  {
   "cell_type": "code",
   "execution_count": 5,
   "id": "c43ea0c8",
   "metadata": {},
   "outputs": [],
   "source": [
    "def zero_shot_classification(loader, text_features, model, device, classes):\n",
    "    correct = 0\n",
    "    total = 0\n",
    "    class_correct = [0] * len(classes)\n",
    "    class_total = [0] * len(classes)\n",
    "    class_accuracies = {}\n",
    "    model.eval()\n",
    "    with torch.no_grad():\n",
    "        for images, labels in loader:\n",
    "            images, labels = images.to(device), labels.to(device)\n",
    "\n",
    "            # Encode images\n",
    "            image_features = model.encode_image(images)\n",
    "            image_features /= image_features.norm(dim=-1, keepdim=True)\n",
    "\n",
    "            # Compute similarity with text features\n",
    "            similarity = 100.0 * image_features @ text_features.to(device).T\n",
    "            preds = similarity.argmax(dim=1)\n",
    "\n",
    "            correct += (preds == labels).sum().item()\n",
    "            total += labels.size(0)\n",
    "\n",
    "            for i in range(len(labels)):\n",
    "                label = labels[i].item()\n",
    "                if preds[i].item() == label:\n",
    "                    class_correct[label] += 1\n",
    "                class_total[label] += 1\n",
    "\n",
    "    accuracy = correct / total * 100\n",
    "\n",
    "    for i, classname in enumerate(classes):\n",
    "        acc = 100.0 * class_correct[i] / class_total[i]\n",
    "        class_accuracies[classname] = acc\n",
    "\n",
    "    return accuracy, class_accuracies"
   ]
  },
  {
   "cell_type": "code",
   "execution_count": 6,
   "id": "3d1948c7",
   "metadata": {},
   "outputs": [
    {
     "name": "stdout",
     "output_type": "stream",
     "text": [
      "Zero-shot accuracy on STL-10 test set: 97.29%\n",
      "Per-class accuracy:\n",
      "    airplane  : 98.75%\n",
      "    bird      : 99.75%\n",
      "    car       : 96.75%\n",
      "    cat       : 89.25%\n",
      "    deer      : 98.12%\n",
      "    dog       : 95.25%\n",
      "    horse     : 99.25%\n",
      "    monkey    : 97.00%\n",
      "    ship      : 99.88%\n",
      "    truck     : 98.88%\n",
      "Zero-shot accuracy on cue-conflicted STL-10 test set: 77.58%\n",
      "Per-class accuracy:\n",
      "    airplane  : 73.88%\n",
      "    bird      : 88.00%\n",
      "    car       : 96.50%\n",
      "    cat       : 65.00%\n",
      "    deer      : 71.62%\n",
      "    dog       : 73.38%\n",
      "    horse     : 91.38%\n",
      "    monkey    : 59.50%\n",
      "    ship      : 76.62%\n",
      "    truck     : 79.88%\n"
     ]
    }
   ],
   "source": [
    "test_accuracy, test_class_accuracies = zero_shot_classification(test_loader, text_features, model, device, stl10_classes)\n",
    "\n",
    "print(f\"Zero-shot accuracy on STL-10 test set: {test_accuracy:.2f}%\")\n",
    "print(\"Per-class accuracy:\")\n",
    "for classname, acc in test_class_accuracies.items():\n",
    "    print(f\"    {classname:10s}: {acc:.2f}%\")\n",
    "\n",
    "cc_accuracy, cc_class_accuracies = zero_shot_classification(cc_loader, text_features, model, device, stl10_classes)\n",
    "\n",
    "print(f\"Zero-shot accuracy on cue-conflicted STL-10 test set: {cc_accuracy:.2f}%\")\n",
    "print(\"Per-class accuracy:\")\n",
    "for classname, acc in cc_class_accuracies.items():\n",
    "    print(f\"    {classname:10s}: {acc:.2f}%\")\n"
   ]
  },
  {
   "cell_type": "code",
   "execution_count": 7,
   "id": "b3be6a7b",
   "metadata": {},
   "outputs": [
    {
     "name": "stdout",
     "output_type": "stream",
     "text": [
      "CLIP Shape Bias Result: 79.74%\n",
      "Per-class shape bias:\n",
      "    airplane  : 74.81%\n",
      "    bird      : 88.22%\n",
      "    car       : 99.74%\n",
      "    cat       : 72.83%\n",
      "    deer      : 72.99%\n",
      "    dog       : 77.03%\n",
      "    horse     : 92.07%\n",
      "    monkey    : 61.34%\n",
      "    ship      : 76.72%\n",
      "    truck     : 80.78%\n"
     ]
    }
   ],
   "source": [
    "clip_shape_bias = (cc_accuracy/test_accuracy)*100\n",
    "clip_class_bias = {\n",
    "    classname: (cc_class_accuracies[classname] / test_class_accuracies[classname]) * 100\n",
    "    for classname in cc_class_accuracies\n",
    "}\n",
    "\n",
    "\n",
    "print(f\"CLIP Shape Bias Result: {clip_shape_bias:.2f}%\")\n",
    "print(\"Per-class shape bias:\")\n",
    "for classname, rob in clip_class_bias.items():\n",
    "    print(f\"    {classname:10s}: {rob:.2f}%\")"
   ]
  }
 ],
 "metadata": {
  "kernelspec": {
   "display_name": "Python 3",
   "language": "python",
   "name": "python3"
  },
  "language_info": {
   "codemirror_mode": {
    "name": "ipython",
    "version": 3
   },
   "file_extension": ".py",
   "mimetype": "text/x-python",
   "name": "python",
   "nbconvert_exporter": "python",
   "pygments_lexer": "ipython3",
   "version": "3.13.1"
  }
 },
 "nbformat": 4,
 "nbformat_minor": 5
}
