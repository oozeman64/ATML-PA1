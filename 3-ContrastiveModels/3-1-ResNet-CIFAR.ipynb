{
  "cells": [
    {
      "cell_type": "code",
      "execution_count": 1,
      "id": "8ec9b6a1",
      "metadata": {
        "id": "8ec9b6a1"
      },
      "outputs": [],
      "source": [
        "import torch\n",
        "import torchvision\n",
        "from torchvision import datasets\n",
        "from torch.utils.data import DataLoader, ConcatDataset\n",
        "\n",
        "device = \"cuda\" if torch.cuda.is_available() else \"mps\" if torch.mps.is_available() else \"cpu\""
      ]
    },
    {
      "cell_type": "code",
      "execution_count": 2,
      "id": "f697d26b",
      "metadata": {
        "id": "f697d26b",
        "outputId": "ae2a5177-fc81-46a8-faf8-427f050855d0",
        "colab": {
          "base_uri": "https://localhost:8080/"
        }
      },
      "outputs": [
        {
          "output_type": "stream",
          "name": "stdout",
          "text": [
            "Downloading: \"https://download.pytorch.org/models/resnet50-0676ba61.pth\" to /root/.cache/torch/hub/checkpoints/resnet50-0676ba61.pth\n"
          ]
        },
        {
          "output_type": "stream",
          "name": "stderr",
          "text": [
            "100%|██████████| 97.8M/97.8M [00:00<00:00, 192MB/s]\n"
          ]
        }
      ],
      "source": [
        "model = torchvision.models.resnet50(weights='IMAGENET1K_V1')\n",
        "\n",
        "for param in model.parameters():\n",
        "    param.requires_grad = False\n",
        "model.fc = torch.nn.Linear(model.fc.in_features, 10)\n",
        "\n",
        "optim = torch.optim.Adam(model.fc.parameters(), lr=0.001)\n",
        "\n",
        "criterion = torch.nn.CrossEntropyLoss()"
      ]
    },
    {
      "cell_type": "code",
      "execution_count": 3,
      "id": "e4546ce4",
      "metadata": {
        "id": "e4546ce4",
        "outputId": "3d8cf8d7-2f92-4f3e-f103-792aada03a2b",
        "colab": {
          "base_uri": "https://localhost:8080/"
        }
      },
      "outputs": [
        {
          "output_type": "stream",
          "name": "stderr",
          "text": [
            "100%|██████████| 170M/170M [00:22<00:00, 7.70MB/s]\n"
          ]
        }
      ],
      "source": [
        "imagenet_mean = [0.485, 0.456, 0.406]\n",
        "imagenet_std = [0.229, 0.224, 0.225]\n",
        "\n",
        "transform = torchvision.transforms.Compose([\n",
        "    torchvision.transforms.Resize((224, 224)),\n",
        "    torchvision.transforms.ToTensor(),\n",
        "    torchvision.transforms.Normalize(imagenet_mean, imagenet_std)\n",
        "])\n",
        "\n",
        "train_dataset = datasets.CIFAR10(\n",
        "    root=\"./data\",\n",
        "    train=True,\n",
        "    download=True,\n",
        "    transform=transform\n",
        ")\n",
        "\n",
        "test_dataset = datasets.CIFAR10(\n",
        "        root=\"./data\",\n",
        "        train=False,\n",
        "        download=True,\n",
        "        transform=transform\n",
        "    )\n",
        "\n",
        "train_loader = DataLoader(\n",
        "    train_dataset,\n",
        "    batch_size=128,\n",
        "    shuffle=True,\n",
        "    num_workers=2\n",
        ")\n",
        "\n",
        "test_loader = DataLoader(\n",
        "        test_dataset,\n",
        "        batch_size= 128,\n",
        "        shuffle=False,\n",
        "        num_workers=2\n",
        "    )\n",
        "\n",
        "cifar10_classes = train_dataset.classes"
      ]
    },
    {
      "cell_type": "code",
      "execution_count": 4,
      "id": "b7074fca",
      "metadata": {
        "id": "b7074fca"
      },
      "outputs": [],
      "source": [
        "def train_epoch(model, loader, criterion, optimizer, device):\n",
        "    model.to(device)\n",
        "    model.train()\n",
        "    running_loss, correct, total = 0.0, 0, 0\n",
        "\n",
        "    for inputs, labels in loader:\n",
        "        inputs, labels = inputs.to(device), labels.to(device)\n",
        "\n",
        "        optimizer.zero_grad()\n",
        "        outputs = model(inputs)\n",
        "        loss = criterion(outputs, labels)\n",
        "        loss.backward()\n",
        "        optimizer.step()\n",
        "\n",
        "        running_loss += loss.item() * inputs.size(0)\n",
        "        _, predicted = outputs.max(1)\n",
        "        total += labels.size(0)\n",
        "        correct += predicted.eq(labels).sum().item()\n",
        "\n",
        "    avg_loss = running_loss / total\n",
        "    accuracy = 100. * correct / total\n",
        "    return avg_loss, accuracy"
      ]
    },
    {
      "cell_type": "code",
      "execution_count": 5,
      "id": "6897bcec",
      "metadata": {
        "id": "6897bcec"
      },
      "outputs": [],
      "source": [
        "def evaluate(model, test_loader, loss_fn, classes, device):\n",
        "    model.to(device)\n",
        "    model.eval()\n",
        "    correct = 0\n",
        "    total = 0\n",
        "    class_correct = [0] * len(classes)\n",
        "    class_total = [0] * len(classes)\n",
        "    class_accuracies = {}\n",
        "\n",
        "    with torch.no_grad():\n",
        "        for images, labels in test_loader:\n",
        "            images = images.to(device)\n",
        "            labels = labels.to(device)\n",
        "\n",
        "            preds = model.forward(images)\n",
        "            loss = loss_fn(preds, labels)\n",
        "            preds = torch.argmax(preds, dim=1)\n",
        "            correct += (preds == labels).sum().item()\n",
        "            total += labels.size(0)\n",
        "\n",
        "            for i in range(len(labels)):\n",
        "                label = labels[i].item()\n",
        "                if preds[i].item() == label:\n",
        "                    class_correct[label] += 1\n",
        "                class_total[label] += 1\n",
        "    accuracy = correct / total * 100\n",
        "\n",
        "    for i, classname in enumerate(classes):\n",
        "        acc = 100.0 * class_correct[i] / class_total[i]\n",
        "        class_accuracies[classname] = acc\n",
        "\n",
        "    return accuracy, class_accuracies"
      ]
    },
    {
      "cell_type": "code",
      "execution_count": 6,
      "id": "514a1df2",
      "metadata": {
        "id": "514a1df2",
        "outputId": "f4fe49c2-dd50-4b3b-9c22-793db7bb877a",
        "colab": {
          "base_uri": "https://localhost:8080/"
        }
      },
      "outputs": [
        {
          "output_type": "stream",
          "name": "stdout",
          "text": [
            "Epoch 1.\n",
            "Train Accuracy:  73.90%\n",
            "Test Accuracy: 79.71%\n",
            "Per-class accuracy:\n",
            "    airplane  : 84.40%\n",
            "    automobile: 85.80%\n",
            "    bird      : 70.10%\n",
            "    cat       : 66.50%\n",
            "    deer      : 74.30%\n",
            "    dog       : 78.10%\n",
            "    frog      : 90.00%\n",
            "    horse     : 77.30%\n",
            "    ship      : 85.00%\n",
            "    truck     : 85.60%\n",
            "Epoch 2.\n",
            "Train Accuracy:  79.94%\n",
            "Test Accuracy: 80.91%\n",
            "Per-class accuracy:\n",
            "    airplane  : 83.20%\n",
            "    automobile: 89.30%\n",
            "    bird      : 73.90%\n",
            "    cat       : 67.90%\n",
            "    deer      : 73.60%\n",
            "    dog       : 74.30%\n",
            "    frog      : 87.50%\n",
            "    horse     : 85.20%\n",
            "    ship      : 87.30%\n",
            "    truck     : 86.90%\n",
            "Epoch 3.\n",
            "Train Accuracy:  80.86%\n",
            "Test Accuracy: 81.24%\n",
            "Per-class accuracy:\n",
            "    airplane  : 73.90%\n",
            "    automobile: 85.20%\n",
            "    bird      : 74.50%\n",
            "    cat       : 75.50%\n",
            "    deer      : 75.80%\n",
            "    dog       : 74.80%\n",
            "    frog      : 90.70%\n",
            "    horse     : 82.40%\n",
            "    ship      : 92.10%\n",
            "    truck     : 87.50%\n",
            "Epoch 4.\n",
            "Train Accuracy:  81.40%\n",
            "Test Accuracy: 81.34%\n",
            "Per-class accuracy:\n",
            "    airplane  : 69.60%\n",
            "    automobile: 85.60%\n",
            "    bird      : 77.40%\n",
            "    cat       : 73.00%\n",
            "    deer      : 75.70%\n",
            "    dog       : 75.70%\n",
            "    frog      : 90.90%\n",
            "    horse     : 82.90%\n",
            "    ship      : 93.00%\n",
            "    truck     : 89.60%\n",
            "Epoch 5.\n",
            "Train Accuracy:  82.06%\n",
            "Test Accuracy: 81.82%\n",
            "Per-class accuracy:\n",
            "    airplane  : 86.90%\n",
            "    automobile: 87.30%\n",
            "    bird      : 65.80%\n",
            "    cat       : 69.60%\n",
            "    deer      : 82.80%\n",
            "    dog       : 82.30%\n",
            "    frog      : 88.50%\n",
            "    horse     : 81.80%\n",
            "    ship      : 86.40%\n",
            "    truck     : 86.80%\n",
            "Epoch 6.\n",
            "Train Accuracy:  82.10%\n",
            "Test Accuracy: 81.43%\n",
            "Per-class accuracy:\n",
            "    airplane  : 70.20%\n",
            "    automobile: 87.30%\n",
            "    bird      : 68.90%\n",
            "    cat       : 70.00%\n",
            "    deer      : 85.20%\n",
            "    dog       : 83.50%\n",
            "    frog      : 87.10%\n",
            "    horse     : 80.60%\n",
            "    ship      : 92.40%\n",
            "    truck     : 89.10%\n",
            "Epoch 7.\n",
            "Train Accuracy:  82.62%\n",
            "Test Accuracy: 82.34%\n",
            "Per-class accuracy:\n",
            "    airplane  : 83.10%\n",
            "    automobile: 81.40%\n",
            "    bird      : 78.80%\n",
            "    cat       : 74.10%\n",
            "    deer      : 77.60%\n",
            "    dog       : 74.90%\n",
            "    frog      : 88.50%\n",
            "    horse     : 84.80%\n",
            "    ship      : 90.10%\n",
            "    truck     : 90.10%\n",
            "Epoch 8.\n",
            "Train Accuracy:  82.74%\n",
            "Test Accuracy: 82.44%\n",
            "Per-class accuracy:\n",
            "    airplane  : 86.90%\n",
            "    automobile: 92.40%\n",
            "    bird      : 83.20%\n",
            "    cat       : 75.20%\n",
            "    deer      : 72.90%\n",
            "    dog       : 78.50%\n",
            "    frog      : 84.90%\n",
            "    horse     : 82.20%\n",
            "    ship      : 85.80%\n",
            "    truck     : 82.40%\n",
            "Epoch 9.\n",
            "Train Accuracy:  83.23%\n",
            "Test Accuracy: 81.45%\n",
            "Per-class accuracy:\n",
            "    airplane  : 86.40%\n",
            "    automobile: 77.60%\n",
            "    bird      : 77.00%\n",
            "    cat       : 61.80%\n",
            "    deer      : 81.80%\n",
            "    dog       : 85.40%\n",
            "    frog      : 90.20%\n",
            "    horse     : 76.30%\n",
            "    ship      : 84.60%\n",
            "    truck     : 93.40%\n",
            "Epoch 10.\n",
            "Train Accuracy:  83.50%\n",
            "Test Accuracy: 82.34%\n",
            "Per-class accuracy:\n",
            "    airplane  : 79.40%\n",
            "    automobile: 86.90%\n",
            "    bird      : 77.40%\n",
            "    cat       : 67.30%\n",
            "    deer      : 82.00%\n",
            "    dog       : 83.40%\n",
            "    frog      : 85.60%\n",
            "    horse     : 77.90%\n",
            "    ship      : 92.30%\n",
            "    truck     : 91.20%\n"
          ]
        }
      ],
      "source": [
        "for i in range(10):\n",
        "    _, train_acc = train_epoch(model, train_loader, criterion, optim, device)\n",
        "    print(f\"Epoch {i+1}.\")\n",
        "    print(f\"Train Accuracy:  {train_acc:.2f}%\")\n",
        "    accuracy, class_accuracies = evaluate(model, test_loader, criterion, cifar10_classes, device)\n",
        "    print(f\"Test Accuracy: {accuracy:.2f}%\")\n",
        "    print(\"Per-class accuracy:\")\n",
        "    for classname, acc in class_accuracies.items():\n",
        "        print(f\"    {classname:10s}: {acc:.2f}%\")\n",
        ""
      ]
    },
    {
      "cell_type": "code",
      "execution_count": 6,
      "id": "1c86899a",
      "metadata": {
        "id": "1c86899a"
      },
      "outputs": [],
      "source": []
    }
  ],
  "metadata": {
    "kernelspec": {
      "display_name": "Python 3",
      "name": "python3"
    },
    "language_info": {
      "codemirror_mode": {
        "name": "ipython",
        "version": 3
      },
      "file_extension": ".py",
      "mimetype": "text/x-python",
      "name": "python",
      "nbconvert_exporter": "python",
      "pygments_lexer": "ipython3",
      "version": "3.13.1"
    },
    "colab": {
      "provenance": [],
      "gpuType": "T4"
    },
    "accelerator": "GPU"
  },
  "nbformat": 4,
  "nbformat_minor": 5
}