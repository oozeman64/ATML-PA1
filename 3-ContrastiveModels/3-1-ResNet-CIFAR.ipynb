{
 "cells": [
  {
   "cell_type": "code",
   "execution_count": 1,
   "id": "8ec9b6a1",
   "metadata": {},
   "outputs": [],
   "source": [
    "import torch\n",
    "import torchvision\n",
    "from torchvision import datasets\n",
    "from torch.utils.data import DataLoader, ConcatDataset\n",
    "\n",
    "device = \"cuda\" if torch.cuda.is_available() else \"mps\" if torch.mps.is_available() else \"cpu\""
   ]
  },
  {
   "cell_type": "code",
   "execution_count": 2,
   "id": "f697d26b",
   "metadata": {},
   "outputs": [],
   "source": [
    "model = torchvision.models.resnet50(weights='IMAGENET1K_V1')\n",
    "\n",
    "for param in model.parameters():\n",
    "    param.requires_grad = False\n",
    "model.fc = torch.nn.Linear(model.fc.in_features, 10)\n",
    "\n",
    "optim = torch.optim.Adam(model.fc.parameters(), lr=0.001)\n",
    "\n",
    "criterion = torch.nn.CrossEntropyLoss()"
   ]
  },
  {
   "cell_type": "code",
   "execution_count": 3,
   "id": "e4546ce4",
   "metadata": {},
   "outputs": [],
   "source": [
    "imagenet_mean = [0.485, 0.456, 0.406]\n",
    "imagenet_std = [0.229, 0.224, 0.225]\n",
    "\n",
    "transform = torchvision.transforms.Compose([\n",
    "    torchvision.transforms.Resize((224, 224)),\n",
    "    torchvision.transforms.ToTensor(),\n",
    "    torchvision.transforms.Normalize(imagenet_mean, imagenet_std)\n",
    "])\n",
    "\n",
    "train_dataset = datasets.CIFAR10(\n",
    "    root=\"./data\",\n",
    "    train=True,\n",
    "    download=True,\n",
    "    transform=transform\n",
    ") \n",
    "\n",
    "test_dataset = datasets.CIFAR10(\n",
    "        root=\"./data\",\n",
    "        train=False,\n",
    "        download=True,\n",
    "        transform=transform\n",
    "    )\n",
    "\n",
    "train_loader = DataLoader(\n",
    "    train_dataset,\n",
    "    batch_size=128,\n",
    "    shuffle=True,\n",
    "    num_workers=2\n",
    ")\n",
    "\n",
    "test_loader = DataLoader(\n",
    "        test_dataset,\n",
    "        batch_size= 128,\n",
    "        shuffle=False,\n",
    "        num_workers=2\n",
    "    )\n",
    "\n",
    "cifar10_classes = train_dataset.classes"
   ]
  },
  {
   "cell_type": "code",
   "execution_count": 4,
   "id": "b7074fca",
   "metadata": {},
   "outputs": [],
   "source": [
    "def train_epoch(model, loader, criterion, optimizer, device):\n",
    "    model.to(device)\n",
    "    model.train()\n",
    "    running_loss, correct, total = 0.0, 0, 0\n",
    "\n",
    "    for inputs, labels in loader:\n",
    "        inputs, labels = inputs.to(device), labels.to(device)\n",
    "\n",
    "        optimizer.zero_grad()\n",
    "        outputs = model(inputs)\n",
    "        loss = criterion(outputs, labels)\n",
    "        loss.backward()\n",
    "        optimizer.step()\n",
    "\n",
    "        running_loss += loss.item() * inputs.size(0)\n",
    "        _, predicted = outputs.max(1)\n",
    "        total += labels.size(0)\n",
    "        correct += predicted.eq(labels).sum().item()\n",
    "\n",
    "    avg_loss = running_loss / total\n",
    "    accuracy = 100. * correct / total\n",
    "    return avg_loss, accuracy"
   ]
  },
  {
   "cell_type": "code",
   "execution_count": 5,
   "id": "6897bcec",
   "metadata": {},
   "outputs": [],
   "source": [
    "def evaluate(model, test_loader, loss_fn, classes, device):\n",
    "    model.to(device)\n",
    "    model.eval()\n",
    "    correct = 0\n",
    "    total = 0\n",
    "    class_correct = [0] * len(classes)\n",
    "    class_total = [0] * len(classes)\n",
    "    class_accuracies = {}\n",
    "\n",
    "    with torch.no_grad():\n",
    "        for images, labels in test_loader:\n",
    "            images = images.to(device)\n",
    "            labels = labels.to(device)\n",
    "\n",
    "            preds = model.forward(images)\n",
    "            loss = loss_fn(preds, labels)\n",
    "            preds = torch.argmax(preds, dim=1)\n",
    "            correct += (preds == labels).sum().item()\n",
    "            total += labels.size(0)\n",
    "\n",
    "            for i in range(len(labels)):\n",
    "                label = labels[i].item()\n",
    "                if preds[i].item() == label:\n",
    "                    class_correct[label] += 1\n",
    "                class_total[label] += 1\n",
    "    accuracy = correct / total * 100\n",
    "    \n",
    "    for i, classname in enumerate(classes):\n",
    "        acc = 100.0 * class_correct[i] / class_total[i]\n",
    "        class_accuracies[classname] = acc\n",
    "\n",
    "    return accuracy, class_accuracies"
   ]
  },
  {
   "cell_type": "code",
   "execution_count": 6,
   "id": "514a1df2",
   "metadata": {},
   "outputs": [
    {
     "name": "stdout",
     "output_type": "stream",
     "text": [
      "Epoch 1.   Train Accuracy:  74.34%\n",
      "Epoch 2.   Train Accuracy:  79.89%\n",
      "Epoch 3.   Train Accuracy:  80.90%\n"
     ]
    }
   ],
   "source": [
    "for i in range(3):\n",
    "    _, train_acc = train_epoch(model, train_loader, criterion, optim, device)\n",
    "    print(f\"Epoch {i+1}.   Train Accuracy:  {train_acc:.2f}%\")\n",
    "    "
   ]
  },
  {
   "cell_type": "code",
   "execution_count": 7,
   "id": "1c86899a",
   "metadata": {},
   "outputs": [
    {
     "name": "stdout",
     "output_type": "stream",
     "text": [
      "ResNet CIFAR-10 Test Accuracy: 81.20%\n",
      "Per-class accuracy:\n",
      "    airplane  : 82.20%\n",
      "    automobile: 88.00%\n",
      "    bird      : 68.50%\n",
      "    cat       : 67.70%\n",
      "    deer      : 80.50%\n",
      "    dog       : 73.20%\n",
      "    frog      : 90.80%\n",
      "    horse     : 86.40%\n",
      "    ship      : 89.00%\n",
      "    truck     : 85.70%\n"
     ]
    }
   ],
   "source": [
    "accuracy, class_accuracies = evaluate(model, test_loader, criterion, cifar10_classes, device)\n",
    "print(f\"ResNet CIFAR-10 Test Accuracy: {accuracy:.2f}%\")\n",
    "print(\"Per-class accuracy:\")\n",
    "for classname, acc in class_accuracies.items():\n",
    "    print(f\"    {classname:10s}: {acc:.2f}%\")"
   ]
  }
 ],
 "metadata": {
  "kernelspec": {
   "display_name": "Python 3",
   "language": "python",
   "name": "python3"
  },
  "language_info": {
   "codemirror_mode": {
    "name": "ipython",
    "version": 3
   },
   "file_extension": ".py",
   "mimetype": "text/x-python",
   "name": "python",
   "nbconvert_exporter": "python",
   "pygments_lexer": "ipython3",
   "version": "3.13.1"
  }
 },
 "nbformat": 4,
 "nbformat_minor": 5
}
