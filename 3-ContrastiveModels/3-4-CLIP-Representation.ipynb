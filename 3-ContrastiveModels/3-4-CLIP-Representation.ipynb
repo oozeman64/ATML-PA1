{
 "cells": [
  {
   "cell_type": "markdown",
   "id": "ef93d98c",
   "metadata": {},
   "source": [
    "## CLIP ViT-B/32 Representation Analysis"
   ]
  },
  {
   "cell_type": "code",
   "execution_count": null,
   "id": "51c1bd76",
   "metadata": {},
   "outputs": [],
   "source": [
    "import torch\n",
    "from torchvision import datasets\n",
    "from torch.utils.data import DataLoader\n",
    "import clip\n",
    "import matplotlib.pyplot as plt"
   ]
  },
  {
   "cell_type": "code",
   "execution_count": null,
   "id": "6b051ff0",
   "metadata": {},
   "outputs": [],
   "source": []
  }
 ],
 "metadata": {
  "language_info": {
   "name": "python"
  }
 },
 "nbformat": 4,
 "nbformat_minor": 5
}
